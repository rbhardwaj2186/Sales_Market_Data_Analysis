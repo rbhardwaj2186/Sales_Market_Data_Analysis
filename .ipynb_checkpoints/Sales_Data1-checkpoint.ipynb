{
 "cells": [
  {
   "cell_type": "code",
   "execution_count": null,
   "metadata": {
    "id": "z4QUux4v5m4v"
   },
   "outputs": [],
   "source": [
    "import pandas as pd\n",
    "import numpy as np\n",
    "import matplotlib.pyplot as plt"
   ]
  },
  {
   "cell_type": "code",
   "execution_count": null,
   "metadata": {
    "colab": {
     "base_uri": "https://localhost:8080/"
    },
    "id": "dG6j0Wi77JLX",
    "outputId": "de40dddb-3c52-4358-95f6-5074c5211d39"
   },
   "outputs": [],
   "source": [
    "!pip install pyarrow"
   ]
  },
  {
   "cell_type": "code",
   "execution_count": null,
   "metadata": {
    "id": "gXWCj3Il6zyv"
   },
   "outputs": [],
   "source": [
    "# Reads a Feather format file containing sales data into a Pandas DataFrame named 'all_data'.\n",
    "all_data = pd.read_feather(r'./Sales_data.ftr')"
   ]
  },
  {
   "cell_type": "code",
   "execution_count": null,
   "metadata": {
    "colab": {
     "base_uri": "https://localhost:8080/",
     "height": 342
    },
    "id": "RusezMa07V5P",
    "outputId": "2dde6a58-10ea-400e-f233-2ab3b0343b4f"
   },
   "outputs": [],
   "source": [
    "all_data.head(6)"
   ]
  },
  {
   "cell_type": "code",
   "execution_count": null,
   "metadata": {
    "colab": {
     "base_uri": "https://localhost:8080/",
     "height": 441
    },
    "id": "Njwx2siE7eHG",
    "outputId": "ab686bca-6afb-4b15-fed0-518e8bdf566d"
   },
   "outputs": [],
   "source": [
    "# Checks for null (missing) values in each element of the Pandas DataFrame 'all_data'.\n",
    "all_data.isnull()"
   ]
  },
  {
   "cell_type": "code",
   "execution_count": null,
   "metadata": {
    "colab": {
     "base_uri": "https://localhost:8080/"
    },
    "id": "A7FzJgdX7mOu",
    "outputId": "47e1101c-f2cd-44c7-b485-edf35ea6cd61"
   },
   "outputs": [],
   "source": [
    "all_data.isnull().sum()"
   ]
  },
  {
   "cell_type": "code",
   "execution_count": null,
   "metadata": {
    "id": "8LhI35dX7qKn"
   },
   "outputs": [],
   "source": [
    "# As we can see all the missing values are in all the columns we can use drop how attribute to all\n",
    "all_data = all_data.dropna(how=\"all\")\n"
   ]
  },
  {
   "cell_type": "code",
   "execution_count": null,
   "metadata": {
    "colab": {
     "base_uri": "https://localhost:8080/"
    },
    "id": "8J9_txxE8TXE",
    "outputId": "2d4cae30-d717-4a5d-c700-665355891e40"
   },
   "outputs": [],
   "source": [
    "all_data.isnull().sum()"
   ]
  },
  {
   "cell_type": "code",
   "execution_count": null,
   "metadata": {
    "colab": {
     "base_uri": "https://localhost:8080/"
    },
    "id": "HAFclMdV8WA2",
    "outputId": "2805d19c-2d1c-4305-cc11-de92a00557c7"
   },
   "outputs": [],
   "source": [
    "# To find duplicated instances\n",
    "all_data.duplicated()"
   ]
  },
  {
   "cell_type": "code",
   "execution_count": null,
   "metadata": {
    "colab": {
     "base_uri": "https://localhost:8080/",
     "height": 684
    },
    "id": "sjdPCO8C8ccm",
    "outputId": "8ca3ad50-36a2-481d-acd2-9f1871d8fefa"
   },
   "outputs": [],
   "source": [
    "# Taking all_data.duplicated as filter and viewing it\n",
    "all_data[all_data.duplicated()]"
   ]
  },
  {
   "cell_type": "code",
   "execution_count": null,
   "metadata": {
    "id": "Xp3R4RXV8p4G"
   },
   "outputs": [],
   "source": [
    "# Dropping all the duplicated values\n",
    "all_data = all_data.drop_duplicates()"
   ]
  },
  {
   "cell_type": "code",
   "execution_count": null,
   "metadata": {
    "colab": {
     "base_uri": "https://localhost:8080/"
    },
    "id": "_EiSMulf80Yc",
    "outputId": "361a8f63-6c3f-4b4a-bf10-90644221fe0e"
   },
   "outputs": [],
   "source": [
    "# To now check the duplicated data, we will find none\n",
    "all_data[all_data.describe()].sum()"
   ]
  },
  {
   "cell_type": "markdown",
   "metadata": {
    "id": "_9oqqPMf947e"
   },
   "source": [
    "## Best Month of Sale"
   ]
  },
  {
   "cell_type": "markdown",
   "metadata": {
    "id": "qKuGxGQw-qld"
   },
   "source": [
    "### To find the best month of sales, as there is no feature like month or no features as sales, but we can extract the month from Order Date and sale price as Quantity ordered multiply with each price."
   ]
  },
  {
   "cell_type": "code",
   "execution_count": null,
   "metadata": {
    "colab": {
     "base_uri": "https://localhost:8080/",
     "height": 164
    },
    "id": "dAbnRTmH98mL",
    "outputId": "f9081d51-b156-4637-d516-3a72c8d771cf"
   },
   "outputs": [],
   "source": [
    "all_data.head(2)"
   ]
  },
  {
   "cell_type": "markdown",
   "metadata": {
    "id": "TaNkPDKw_gmr"
   },
   "source": [
    "### Extracting month feature"
   ]
  },
  {
   "cell_type": "code",
   "execution_count": null,
   "metadata": {
    "colab": {
     "base_uri": "https://localhost:8080/"
    },
    "id": "XiqJg-vl_td-",
    "outputId": "ff5c24ae-da52-4251-a933-772259b499b1"
   },
   "outputs": [],
   "source": [
    "all_data['Order Date']"
   ]
  },
  {
   "cell_type": "code",
   "execution_count": null,
   "metadata": {
    "colab": {
     "base_uri": "https://localhost:8080/",
     "height": 35
    },
    "id": "2934cfSe-BRL",
    "outputId": "d691b1f5-4813-4cd8-ea5d-f16512295f3f"
   },
   "outputs": [],
   "source": [
    "all_data['Order Date'][0]"
   ]
  },
  {
   "cell_type": "code",
   "execution_count": null,
   "metadata": {
    "colab": {
     "base_uri": "https://localhost:8080/",
     "height": 35
    },
    "id": "rPOJzTws_L7a",
    "outputId": "8257f40e-6ccf-4e93-8062-f21927b9943a"
   },
   "outputs": [],
   "source": [
    "'04/19/19 08:46'.split(' ')[0]"
   ]
  },
  {
   "cell_type": "code",
   "execution_count": null,
   "metadata": {
    "colab": {
     "base_uri": "https://localhost:8080/",
     "height": 35
    },
    "id": "CEFkD2Oy_VnT",
    "outputId": "5f654b07-fb4f-405d-b095-d093f9a72841"
   },
   "outputs": [],
   "source": [
    "# Extracts the month value ('04') from the given date string '04/19/19 08:46' using consecutive split operations.\n",
    "'04/19/19 08:46'.split(' ')[0].split('/')[0]"
   ]
  },
  {
   "cell_type": "markdown",
   "metadata": {
    "id": "HR7Yyvhj_9-X"
   },
   "source": [
    "### Alternative Approach"
   ]
  },
  {
   "cell_type": "code",
   "execution_count": null,
   "metadata": {
    "colab": {
     "base_uri": "https://localhost:8080/",
     "height": 35
    },
    "id": "fYfrUshn_6H8",
    "outputId": "0eac7654-99bc-458e-f55e-843a4acbaf07"
   },
   "outputs": [],
   "source": [
    "all_data['Order Date'][0].split('/')[0]"
   ]
  },
  {
   "cell_type": "code",
   "execution_count": null,
   "metadata": {
    "id": "uxg3mSCmAJTK"
   },
   "outputs": [],
   "source": [
    "# Defines a function named 'return_month' that takes a string 'x' as input and returns the first element obtained by splitting 'x' using the '/' delimiter.\n",
    "def return_month(x):\n",
    "  return x.split('/')[0]"
   ]
  },
  {
   "cell_type": "code",
   "execution_count": null,
   "metadata": {
    "id": "0b0dp2xWAcVi"
   },
   "outputs": [],
   "source": [
    "all_data['Month'] = all_data['Order Date'].apply(return_month)"
   ]
  },
  {
   "cell_type": "code",
   "execution_count": null,
   "metadata": {
    "colab": {
     "base_uri": "https://localhost:8080/"
    },
    "id": "TZ0Eg2OAAlch",
    "outputId": "e58f45e3-8225-4ee9-9626-71ef076f380d"
   },
   "outputs": [],
   "source": [
    "all_data.dtypes"
   ]
  },
  {
   "cell_type": "code",
   "execution_count": null,
   "metadata": {
    "id": "OW1XF7fkAp7q"
   },
   "outputs": [],
   "source": [
    "all_data['Month'].unique()"
   ]
  },
  {
   "cell_type": "code",
   "execution_count": null,
   "metadata": {},
   "outputs": [],
   "source": [
    "filter1 = all_data['Month'] == 'Order Date'"
   ]
  },
  {
   "cell_type": "code",
   "execution_count": null,
   "metadata": {},
   "outputs": [],
   "source": [
    "all_data = all_data[~filter1]"
   ]
  },
  {
   "cell_type": "markdown",
   "metadata": {},
   "source": [
    "all_data['Month'].unique()"
   ]
  },
  {
   "cell_type": "markdown",
   "metadata": {},
   "source": [
    "## To remove unneccessary warnings"
   ]
  },
  {
   "cell_type": "code",
   "execution_count": null,
   "metadata": {},
   "outputs": [],
   "source": [
    "import warnings\n",
    "from warnings import filterwarnings\n",
    "filterwarnings('ignore')"
   ]
  },
  {
   "cell_type": "code",
   "execution_count": null,
   "metadata": {},
   "outputs": [],
   "source": [
    "all_data['Month'] = all_data['Month'].astype(int)"
   ]
  },
  {
   "cell_type": "code",
   "execution_count": null,
   "metadata": {},
   "outputs": [],
   "source": [
    "all_data.dtypes"
   ]
  },
  {
   "cell_type": "code",
   "execution_count": null,
   "metadata": {},
   "outputs": [],
   "source": [
    "# Converts the 'Quantity Ordered' column in the Pandas DataFrame 'all_data' to integer type and the 'Price Each' column to float type.\n",
    "all_data['Quantity Ordered'] = all_data['Quantity Ordered'].astype(int)\n",
    "all_data['Price Each'] = all_data['Price Each'].astype(float)"
   ]
  },
  {
   "cell_type": "code",
   "execution_count": null,
   "metadata": {},
   "outputs": [],
   "source": [
    "all_data.dtypes"
   ]
  },
  {
   "cell_type": "code",
   "execution_count": null,
   "metadata": {},
   "outputs": [],
   "source": [
    "all_data['sales'] = all_data['Quantity Ordered'] * all_data['Price Each']"
   ]
  },
  {
   "cell_type": "code",
   "execution_count": null,
   "metadata": {},
   "outputs": [],
   "source": [
    "# Groups the Pandas DataFrame 'all_data' by the 'Month' column and calculates the sum of the 'sales' column within each group.\n",
    "all_data.groupby(['Month'])['sales'].sum()"
   ]
  },
  {
   "cell_type": "markdown",
   "metadata": {},
   "source": [
    "## Bar Plot Visualization of Total Sales each Month!"
   ]
  },
  {
   "cell_type": "code",
   "execution_count": null,
   "metadata": {},
   "outputs": [],
   "source": [
    "# Creates a bar plot displaying the total sales for each month by grouping the Pandas DataFrame 'all_data' by the 'Month' column and summing the 'sales' column within each group.\n",
    "all_data.groupby(['Month'])['sales'].sum().plot(kind='bar')"
   ]
  },
  {
   "cell_type": "markdown",
   "metadata": {},
   "source": [
    "## Interpretation\n",
    "# Last month has the highest sale of the year!"
   ]
  },
  {
   "cell_type": "markdown",
   "metadata": {},
   "source": [
    "# Order Purchased per City"
   ]
  },
  {
   "cell_type": "code",
   "execution_count": null,
   "metadata": {},
   "outputs": [],
   "source": [
    "all_data.head(2)"
   ]
  },
  {
   "cell_type": "code",
   "execution_count": null,
   "metadata": {},
   "outputs": [],
   "source": [
    "all_data['Purchase Address'][0]"
   ]
  },
  {
   "cell_type": "code",
   "execution_count": null,
   "metadata": {},
   "outputs": [],
   "source": [
    "all_data['Purchase Address'][0].split(',')[1]"
   ]
  },
  {
   "cell_type": "code",
   "execution_count": null,
   "metadata": {},
   "outputs": [],
   "source": [
    "all_data['Purchase Address'].str.split(',')"
   ]
  },
  {
   "cell_type": "code",
   "execution_count": null,
   "metadata": {},
   "outputs": [],
   "source": [
    "# Extracts the city name from the 'Purchase Address' column in the Pandas DataFrame 'all_data' by splitting the address using the ',' delimiter and retrieving the second element\n",
    "all_data['Purchase Address'].str.split(',').str.get(1)"
   ]
  },
  {
   "cell_type": "code",
   "execution_count": null,
   "metadata": {},
   "outputs": [],
   "source": [
    "all_data['city'] = all_data['Purchase Address'].str.split(',').str.get(1)"
   ]
  },
  {
   "cell_type": "code",
   "execution_count": null,
   "metadata": {},
   "outputs": [],
   "source": [
    "all_data['city']"
   ]
  },
  {
   "cell_type": "code",
   "execution_count": null,
   "metadata": {},
   "outputs": [],
   "source": [
    "pd.value_counts(all_data['city'])"
   ]
  },
  {
   "cell_type": "code",
   "execution_count": null,
   "metadata": {},
   "outputs": [],
   "source": [
    "# Generates a pie chart representing the distribution of values in the 'city' column of the Pandas DataFrame 'all_data' using the Pandas 'value_counts' function.\n",
    "pd.value_counts(all_data['city']).plot(kind='pie')"
   ]
  },
  {
   "cell_type": "code",
   "execution_count": null,
   "metadata": {},
   "outputs": [],
   "source": [
    "pd.value_counts(all_data['city']).plot(kind='pie', autopct='%1.0f%%')"
   ]
  },
  {
   "cell_type": "markdown",
   "metadata": {},
   "source": [
    "# What products sold the most & why?"
   ]
  },
  {
   "cell_type": "code",
   "execution_count": null,
   "metadata": {},
   "outputs": [],
   "source": [
    "all_data.columns"
   ]
  },
  {
   "cell_type": "code",
   "execution_count": null,
   "metadata": {},
   "outputs": [],
   "source": [
    "# Creates a new DataFrame named 'count_df' by grouping the Pandas DataFrame 'all_data' by the 'Product' column and calculating the sum of 'Quantity Ordered' and the mean of 'Price Each' for each product.\n",
    "count_df = all_data.groupby(['Product']).agg({'Quantity Ordered': 'sum', 'Price Each': 'mean'})"
   ]
  },
  {
   "cell_type": "code",
   "execution_count": null,
   "metadata": {},
   "outputs": [],
   "source": [
    "count_df = count_df.reset_index()"
   ]
  },
  {
   "cell_type": "code",
   "execution_count": null,
   "metadata": {},
   "outputs": [],
   "source": [
    "count_df"
   ]
  },
  {
   "cell_type": "code",
   "execution_count": null,
   "metadata": {},
   "outputs": [],
   "source": [
    "products = count_df[\"Product\"].values"
   ]
  },
  {
   "cell_type": "code",
   "execution_count": null,
   "metadata": {},
   "outputs": [],
   "source": [
    "# Plots a bar chart and a line plot on the same figure using two y-axes ('ax1' and 'ax2'). The bar chart represents the total quantity ordered for each product, displayed on the left y-axis ('ax1'),\n",
    "# while the line plot shows the average price of each product on the right y-axis ('ax2'). The x-axis labels are rotated vertically and set to a fontsize of 11. The left y-axis is labeled as 'Order Count,\n",
    "# ' and the right y-axis is labeled as 'Avg price of product.'\n",
    "fig, ax1 = plt.subplots()\n",
    "\n",
    "ax2 = ax1.twinx()\n",
    "ax1.bar(count_df['Product'], count_df['Quantity Ordered'], color='g')\n",
    "ax2.plot(count_df['Product'], count_df['Price Each'])\n",
    "\n",
    "ax1.set_xticklabels(products, rotation = 'vertical', fontsize=11)\n",
    "\n",
    "ax1.set_ylabel('Order Count')\n",
    "ax2.set_ylabel('Avg price of product')"
   ]
  },
  {
   "cell_type": "markdown",
   "metadata": {},
   "source": [
    "# Interpretation \n",
    "\n",
    "## We can see that Top selliung product is AAA Batteries (4-pack). It seems that top selling product has correlation with price of the products, cheaper the price higher the quantity ordered"
   ]
  },
  {
   "cell_type": "code",
   "execution_count": null,
   "metadata": {},
   "outputs": [],
   "source": []
  }
 ],
 "metadata": {
  "colab": {
   "provenance": []
  },
  "kernelspec": {
   "display_name": "Python 3 (ipykernel)",
   "language": "python",
   "name": "python3"
  },
  "language_info": {
   "codemirror_mode": {
    "name": "ipython",
    "version": 3
   },
   "file_extension": ".py",
   "mimetype": "text/x-python",
   "name": "python",
   "nbconvert_exporter": "python",
   "pygments_lexer": "ipython3",
   "version": "3.11.7"
  }
 },
 "nbformat": 4,
 "nbformat_minor": 4
}
